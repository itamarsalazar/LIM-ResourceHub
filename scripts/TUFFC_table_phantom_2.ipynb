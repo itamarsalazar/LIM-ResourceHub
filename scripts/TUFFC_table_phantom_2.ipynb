{
 "cells": [
  {
   "cell_type": "code",
   "execution_count": 2,
   "id": "initial_id",
   "metadata": {
    "collapsed": true,
    "ExecuteTime": {
     "end_time": "2024-03-13T16:09:24.350232100Z",
     "start_time": "2024-03-13T16:09:24.021163400Z"
    }
   },
   "outputs": [],
   "source": [
    "import pandas as pd"
   ]
  },
  {
   "cell_type": "code",
   "execution_count": 3,
   "outputs": [],
   "source": [
    "h5name_list = ['IS_L11-4v_data2_RF.h5', 'IS_L11-4v_data3_RF.h5', 'IS_L11-4v_data1_RF.h5']"
   ],
   "metadata": {
    "collapsed": false,
    "ExecuteTime": {
     "end_time": "2024-03-13T16:09:24.365858900Z",
     "start_time": "2024-03-13T16:09:24.350232100Z"
    }
   },
   "id": "d5cd36fe64db4efc"
  },
  {
   "cell_type": "code",
   "execution_count": 4,
   "outputs": [],
   "source": [
    "df = pd.read_csv(f'{h5name_list[0][:-4]}.csv')"
   ],
   "metadata": {
    "collapsed": false,
    "ExecuteTime": {
     "end_time": "2024-03-13T16:09:24.398795400Z",
     "start_time": "2024-03-13T16:09:24.365858900Z"
    }
   },
   "id": "77bf8fc4336878d3"
  },
  {
   "cell_type": "markdown",
   "source": [],
   "metadata": {
    "collapsed": false
   },
   "id": "66e936b658dad2ff"
  },
  {
   "cell_type": "code",
   "execution_count": 5,
   "outputs": [
    {
     "data": {
      "text/plain": "          h  patch_size  patch_distance  threshold    name       iou\n0      0.01         3.0             3.0   0.500000     DAS  0.123996\n1      0.01         3.0             3.0   0.500000    NAIR  0.240545\n2      0.01         3.0             3.0   0.500000  STROHM  0.231266\n3      0.01         3.0             3.0   0.500000    WANG  0.256318\n4      0.01         3.0             3.0   0.513636     DAS  0.127375\n...     ...         ...             ...        ...     ...       ...\n36955  0.21        15.0            21.0   0.636364    WANG  0.182556\n36956  0.21        15.0            21.0   0.650000     DAS  0.124862\n36957  0.21        15.0            21.0   0.650000    NAIR  0.168978\n36958  0.21        15.0            21.0   0.650000  STROHM  0.147471\n36959  0.21        15.0            21.0   0.650000    WANG  0.164346\n\n[36960 rows x 6 columns]",
      "text/html": "<div>\n<style scoped>\n    .dataframe tbody tr th:only-of-type {\n        vertical-align: middle;\n    }\n\n    .dataframe tbody tr th {\n        vertical-align: top;\n    }\n\n    .dataframe thead th {\n        text-align: right;\n    }\n</style>\n<table border=\"1\" class=\"dataframe\">\n  <thead>\n    <tr style=\"text-align: right;\">\n      <th></th>\n      <th>h</th>\n      <th>patch_size</th>\n      <th>patch_distance</th>\n      <th>threshold</th>\n      <th>name</th>\n      <th>iou</th>\n    </tr>\n  </thead>\n  <tbody>\n    <tr>\n      <th>0</th>\n      <td>0.01</td>\n      <td>3.0</td>\n      <td>3.0</td>\n      <td>0.500000</td>\n      <td>DAS</td>\n      <td>0.123996</td>\n    </tr>\n    <tr>\n      <th>1</th>\n      <td>0.01</td>\n      <td>3.0</td>\n      <td>3.0</td>\n      <td>0.500000</td>\n      <td>NAIR</td>\n      <td>0.240545</td>\n    </tr>\n    <tr>\n      <th>2</th>\n      <td>0.01</td>\n      <td>3.0</td>\n      <td>3.0</td>\n      <td>0.500000</td>\n      <td>STROHM</td>\n      <td>0.231266</td>\n    </tr>\n    <tr>\n      <th>3</th>\n      <td>0.01</td>\n      <td>3.0</td>\n      <td>3.0</td>\n      <td>0.500000</td>\n      <td>WANG</td>\n      <td>0.256318</td>\n    </tr>\n    <tr>\n      <th>4</th>\n      <td>0.01</td>\n      <td>3.0</td>\n      <td>3.0</td>\n      <td>0.513636</td>\n      <td>DAS</td>\n      <td>0.127375</td>\n    </tr>\n    <tr>\n      <th>...</th>\n      <td>...</td>\n      <td>...</td>\n      <td>...</td>\n      <td>...</td>\n      <td>...</td>\n      <td>...</td>\n    </tr>\n    <tr>\n      <th>36955</th>\n      <td>0.21</td>\n      <td>15.0</td>\n      <td>21.0</td>\n      <td>0.636364</td>\n      <td>WANG</td>\n      <td>0.182556</td>\n    </tr>\n    <tr>\n      <th>36956</th>\n      <td>0.21</td>\n      <td>15.0</td>\n      <td>21.0</td>\n      <td>0.650000</td>\n      <td>DAS</td>\n      <td>0.124862</td>\n    </tr>\n    <tr>\n      <th>36957</th>\n      <td>0.21</td>\n      <td>15.0</td>\n      <td>21.0</td>\n      <td>0.650000</td>\n      <td>NAIR</td>\n      <td>0.168978</td>\n    </tr>\n    <tr>\n      <th>36958</th>\n      <td>0.21</td>\n      <td>15.0</td>\n      <td>21.0</td>\n      <td>0.650000</td>\n      <td>STROHM</td>\n      <td>0.147471</td>\n    </tr>\n    <tr>\n      <th>36959</th>\n      <td>0.21</td>\n      <td>15.0</td>\n      <td>21.0</td>\n      <td>0.650000</td>\n      <td>WANG</td>\n      <td>0.164346</td>\n    </tr>\n  </tbody>\n</table>\n<p>36960 rows × 6 columns</p>\n</div>"
     },
     "execution_count": 5,
     "metadata": {},
     "output_type": "execute_result"
    }
   ],
   "source": [
    "df"
   ],
   "metadata": {
    "collapsed": false,
    "ExecuteTime": {
     "end_time": "2024-03-13T16:09:25.332229500Z",
     "start_time": "2024-03-13T16:09:25.316594800Z"
    }
   },
   "id": "5f4b9dc519a140b5"
  },
  {
   "cell_type": "code",
   "execution_count": 6,
   "outputs": [
    {
     "data": {
      "text/plain": "          h  patch_size  patch_distance  threshold  name       iou\n15795  0.09        11.0            21.0        0.5  WANG  0.611147",
      "text/html": "<div>\n<style scoped>\n    .dataframe tbody tr th:only-of-type {\n        vertical-align: middle;\n    }\n\n    .dataframe tbody tr th {\n        vertical-align: top;\n    }\n\n    .dataframe thead th {\n        text-align: right;\n    }\n</style>\n<table border=\"1\" class=\"dataframe\">\n  <thead>\n    <tr style=\"text-align: right;\">\n      <th></th>\n      <th>h</th>\n      <th>patch_size</th>\n      <th>patch_distance</th>\n      <th>threshold</th>\n      <th>name</th>\n      <th>iou</th>\n    </tr>\n  </thead>\n  <tbody>\n    <tr>\n      <th>15795</th>\n      <td>0.09</td>\n      <td>11.0</td>\n      <td>21.0</td>\n      <td>0.5</td>\n      <td>WANG</td>\n      <td>0.611147</td>\n    </tr>\n  </tbody>\n</table>\n</div>"
     },
     "execution_count": 6,
     "metadata": {},
     "output_type": "execute_result"
    }
   ],
   "source": [
    "df[df['iou'] == df['iou'].max()]"
   ],
   "metadata": {
    "collapsed": false,
    "ExecuteTime": {
     "end_time": "2024-03-13T16:09:26.194208500Z",
     "start_time": "2024-03-13T16:09:26.178544500Z"
    }
   },
   "id": "cfa2e4f06107f796"
  },
  {
   "cell_type": "code",
   "execution_count": 7,
   "outputs": [
    {
     "data": {
      "text/plain": "name\nDAS       0.153403\nNAIR      0.245771\nSTROHM    0.240043\nWANG      0.611147\nName: iou, dtype: float64"
     },
     "execution_count": 7,
     "metadata": {},
     "output_type": "execute_result"
    }
   ],
   "source": [
    "df.groupby('name')['iou'].max()"
   ],
   "metadata": {
    "collapsed": false,
    "ExecuteTime": {
     "end_time": "2024-03-13T16:09:27.179868700Z",
     "start_time": "2024-03-13T16:09:27.148791800Z"
    }
   },
   "id": "441a7939d5bf476"
  },
  {
   "cell_type": "code",
   "execution_count": 8,
   "outputs": [],
   "source": [
    "max_iou_index = df.groupby('name')['iou'].idxmax()\n",
    "result_df = df.loc[max_iou_index]"
   ],
   "metadata": {
    "collapsed": false,
    "ExecuteTime": {
     "end_time": "2024-03-13T16:09:27.859191800Z",
     "start_time": "2024-03-13T16:09:27.843564900Z"
    }
   },
   "id": "ef987009af65a931"
  },
  {
   "cell_type": "code",
   "execution_count": 9,
   "outputs": [
    {
     "data": {
      "text/plain": "          h  patch_size  patch_distance  threshold    name       iou\n12408  0.07        11.0            19.0   0.581818     DAS  0.153403\n20593  0.13         3.0            21.0   0.500000    NAIR  0.245771\n10226  0.07         3.0             9.0   0.500000  STROHM  0.240043\n15795  0.09        11.0            21.0   0.500000    WANG  0.611147",
      "text/html": "<div>\n<style scoped>\n    .dataframe tbody tr th:only-of-type {\n        vertical-align: middle;\n    }\n\n    .dataframe tbody tr th {\n        vertical-align: top;\n    }\n\n    .dataframe thead th {\n        text-align: right;\n    }\n</style>\n<table border=\"1\" class=\"dataframe\">\n  <thead>\n    <tr style=\"text-align: right;\">\n      <th></th>\n      <th>h</th>\n      <th>patch_size</th>\n      <th>patch_distance</th>\n      <th>threshold</th>\n      <th>name</th>\n      <th>iou</th>\n    </tr>\n  </thead>\n  <tbody>\n    <tr>\n      <th>12408</th>\n      <td>0.07</td>\n      <td>11.0</td>\n      <td>19.0</td>\n      <td>0.581818</td>\n      <td>DAS</td>\n      <td>0.153403</td>\n    </tr>\n    <tr>\n      <th>20593</th>\n      <td>0.13</td>\n      <td>3.0</td>\n      <td>21.0</td>\n      <td>0.500000</td>\n      <td>NAIR</td>\n      <td>0.245771</td>\n    </tr>\n    <tr>\n      <th>10226</th>\n      <td>0.07</td>\n      <td>3.0</td>\n      <td>9.0</td>\n      <td>0.500000</td>\n      <td>STROHM</td>\n      <td>0.240043</td>\n    </tr>\n    <tr>\n      <th>15795</th>\n      <td>0.09</td>\n      <td>11.0</td>\n      <td>21.0</td>\n      <td>0.500000</td>\n      <td>WANG</td>\n      <td>0.611147</td>\n    </tr>\n  </tbody>\n</table>\n</div>"
     },
     "execution_count": 9,
     "metadata": {},
     "output_type": "execute_result"
    }
   ],
   "source": [
    "result_df"
   ],
   "metadata": {
    "collapsed": false,
    "ExecuteTime": {
     "end_time": "2024-03-13T16:09:28.710368400Z",
     "start_time": "2024-03-13T16:09:28.679110300Z"
    }
   },
   "id": "6d1d568f951c222a"
  },
  {
   "cell_type": "code",
   "execution_count": null,
   "outputs": [],
   "source": [],
   "metadata": {
    "collapsed": false
   },
   "id": "115c3d6216226627"
  }
 ],
 "metadata": {
  "kernelspec": {
   "display_name": "Python 3",
   "language": "python",
   "name": "python3"
  },
  "language_info": {
   "codemirror_mode": {
    "name": "ipython",
    "version": 2
   },
   "file_extension": ".py",
   "mimetype": "text/x-python",
   "name": "python",
   "nbconvert_exporter": "python",
   "pygments_lexer": "ipython2",
   "version": "2.7.6"
  }
 },
 "nbformat": 4,
 "nbformat_minor": 5
}
